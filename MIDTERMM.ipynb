{
 "cells": [
  {
   "cell_type": "code",
   "execution_count": 65,
   "metadata": {},
   "outputs": [],
   "source": [
    "#downloading the zip file\n",
    "import requests\n",
    "\n",
    "base_url = \"https://ies-python-midterm.s3.eu-central-1.amazonaws.com/studentsSets/72427454.zip\"\n",
    "response = requests.get(base_url)\n",
    "\n",
    "with open(\"dataset.zip\", \"wb\") as f:\n",
    "    f.write(response.content)"
   ]
  },
  {
   "cell_type": "code",
   "execution_count": 66,
   "metadata": {},
   "outputs": [],
   "source": [
    "#I have found, that I can extract zip contents\n",
    "import zipfile\n",
    "\n",
    "with zipfile.ZipFile(\"dataset.zip\", \"r\") as zip_ref:\n",
    "    zip_ref.extractall(\"dataset\")"
   ]
  },
  {
   "cell_type": "code",
   "execution_count": 67,
   "metadata": {},
   "outputs": [
    {
     "name": "stdout",
     "output_type": "stream",
     "text": [
      "Ticker: DHR\n",
      "         Date       High        Low       Open      Close     Volume  \\\n",
      "0  2017-11-13  93.379997  91.839996  92.150002  93.330002  2041000.0   \n",
      "1  2017-11-14  93.309998  92.480003  92.809998  93.190002  1974800.0   \n",
      "2  2017-11-15  93.129997  92.419998  93.070000  92.419998  1844100.0   \n",
      "3  2017-11-16  93.860001  92.320000  92.599998  93.580002  1554000.0   \n",
      "4  2017-11-17  93.639999  92.800003  93.120003  93.300003  1510500.0   \n",
      "\n",
      "   Adj Close  \n",
      "0  91.492851  \n",
      "1  91.355606  \n",
      "2  90.600754  \n",
      "3  91.737923  \n",
      "4  91.463432  \n",
      "\n",
      "\n",
      "Ticker: HES\n",
      "         Date       High        Low       Open      Close     Volume  \\\n",
      "0  2017-11-13  46.900002  45.889999  46.849998  46.590000  3540600.0   \n",
      "1  2017-11-14  46.410000  44.709999  46.180000  44.910000  5414000.0   \n",
      "2  2017-11-15  44.270000  43.320000  44.139999  43.669998  5157700.0   \n",
      "3  2017-11-16  44.680000  43.810001  43.990002  44.090000  4598600.0   \n",
      "4  2017-11-17  44.910000  44.209999  44.360001  44.549999  3950100.0   \n",
      "\n",
      "   Adj Close  \n",
      "0  43.165344  \n",
      "1  41.608841  \n",
      "2  40.459984  \n",
      "3  40.849110  \n",
      "4  41.275299  \n",
      "\n",
      "\n",
      "Ticker: HPQ\n",
      "         Date       High        Low       Open      Close      Volume  \\\n",
      "0  2017-11-13  21.330000  21.150000  21.230000  21.170000   4921900.0   \n",
      "1  2017-11-14  21.450001  20.990000  21.100000  21.360001  11628100.0   \n",
      "2  2017-11-15  21.530001  21.240000  21.309999  21.360001  12655200.0   \n",
      "3  2017-11-16  21.750000  21.410000  21.430000  21.570000   9562200.0   \n",
      "4  2017-11-17  21.870001  21.450001  21.510000  21.750000  10639900.0   \n",
      "\n",
      "   Adj Close  \n",
      "0  18.641359  \n",
      "1  18.808666  \n",
      "2  18.808666  \n",
      "3  18.993576  \n",
      "4  19.152075  \n",
      "\n",
      "\n",
      "Ticker: IVZ\n",
      "         Date       High        Low       Open      Close     Volume  \\\n",
      "0  2017-11-13  34.680000  34.349998  34.630001  34.520000  1896400.0   \n",
      "1  2017-11-14  34.529999  34.259998  34.290001  34.470001  2247800.0   \n",
      "2  2017-11-15  34.799999  33.950001  34.209999  34.480000  4631800.0   \n",
      "3  2017-11-16  34.869999  34.500000  34.709999  34.570000  2280100.0   \n",
      "4  2017-11-17  35.070000  34.369999  34.430000  34.980000  2899300.0   \n",
      "\n",
      "   Adj Close  \n",
      "0  27.556639  \n",
      "1  27.516727  \n",
      "2  27.524712  \n",
      "3  27.596558  \n",
      "4  27.923851  \n",
      "\n",
      "\n"
     ]
    }
   ],
   "source": [
    "def process_csv_files(path):\n",
    "    # Iterate through all files in the provided path\n",
    "    for file in os.listdir(path):\n",
    "        file_path = os.path.join(path, file)\n",
    "\n",
    "        # If the file is a CSV, read and display its content\n",
    "        if file.endswith(\".csv\"):\n",
    "            ticker = file[:-4]  # Remove the \".csv\" extension to get the ticker\n",
    "            data = pd.read_csv(file_path)\n",
    "            print(f\"Ticker: {ticker}\")\n",
    "            print(data.head())\n",
    "            print(\"\\n\")\n",
    "\n",
    "        # If the file is a directory, search for CSV files within it\n",
    "        elif os.path.isdir(file_path):\n",
    "            process_csv_files(file_path)\n",
    "\n",
    "# Call the function on the \"dataset\" folder\n",
    "process_csv_files(\"dataset\")\n"
   ]
  },
  {
   "cell_type": "code",
   "execution_count": null,
   "metadata": {},
   "outputs": [],
   "source": [
    "# I have run into trouble here, and I did not manage to finish"
   ]
  },
  {
   "cell_type": "code",
   "execution_count": null,
   "metadata": {},
   "outputs": [],
   "source": [
    "#PART 2"
   ]
  },
  {
   "cell_type": "code",
   "execution_count": 43,
   "metadata": {},
   "outputs": [
    {
     "data": {
      "text/html": [
       "<div>\n",
       "<style scoped>\n",
       "    .dataframe tbody tr th:only-of-type {\n",
       "        vertical-align: middle;\n",
       "    }\n",
       "\n",
       "    .dataframe tbody tr th {\n",
       "        vertical-align: top;\n",
       "    }\n",
       "\n",
       "    .dataframe thead th {\n",
       "        text-align: right;\n",
       "    }\n",
       "</style>\n",
       "<table border=\"1\" class=\"dataframe\">\n",
       "  <thead>\n",
       "    <tr style=\"text-align: right;\">\n",
       "      <th></th>\n",
       "      <th>Symbol</th>\n",
       "      <th>Security</th>\n",
       "      <th>GICS Sector</th>\n",
       "      <th>hq</th>\n",
       "      <th>included</th>\n",
       "      <th>Founded</th>\n",
       "    </tr>\n",
       "  </thead>\n",
       "  <tbody>\n",
       "    <tr>\n",
       "      <th>0</th>\n",
       "      <td>MMM</td>\n",
       "      <td>3M</td>\n",
       "      <td>Industrials</td>\n",
       "      <td>Saint Paul, Minnesota</td>\n",
       "      <td>09.08.1976</td>\n",
       "      <td>1902</td>\n",
       "    </tr>\n",
       "    <tr>\n",
       "      <th>1</th>\n",
       "      <td>AOS</td>\n",
       "      <td>A. O. Smith</td>\n",
       "      <td>Industrials</td>\n",
       "      <td>Milwaukee, Wisconsin</td>\n",
       "      <td>26.07.2017</td>\n",
       "      <td>1916</td>\n",
       "    </tr>\n",
       "    <tr>\n",
       "      <th>2</th>\n",
       "      <td>ABT</td>\n",
       "      <td>Abbott</td>\n",
       "      <td>Health Care</td>\n",
       "      <td>North Chicago, Illinois</td>\n",
       "      <td>31.03.1964</td>\n",
       "      <td>1888</td>\n",
       "    </tr>\n",
       "    <tr>\n",
       "      <th>3</th>\n",
       "      <td>ABBV</td>\n",
       "      <td>AbbVie</td>\n",
       "      <td>Health Care</td>\n",
       "      <td>North Chicago, Illinois</td>\n",
       "      <td>31.12.2012</td>\n",
       "      <td>2013 (1888)</td>\n",
       "    </tr>\n",
       "    <tr>\n",
       "      <th>4</th>\n",
       "      <td>ABMD</td>\n",
       "      <td>Abiomed</td>\n",
       "      <td>Health Care</td>\n",
       "      <td>Danvers, Massachusetts</td>\n",
       "      <td>31.05.2018</td>\n",
       "      <td>1981</td>\n",
       "    </tr>\n",
       "  </tbody>\n",
       "</table>\n",
       "</div>"
      ],
      "text/plain": [
       "  Symbol     Security  GICS Sector                       hq    included  \\\n",
       "0    MMM           3M  Industrials    Saint Paul, Minnesota  09.08.1976   \n",
       "1    AOS  A. O. Smith  Industrials     Milwaukee, Wisconsin  26.07.2017   \n",
       "2    ABT       Abbott  Health Care  North Chicago, Illinois  31.03.1964   \n",
       "3   ABBV       AbbVie  Health Care  North Chicago, Illinois  31.12.2012   \n",
       "4   ABMD      Abiomed  Health Care   Danvers, Massachusetts  31.05.2018   \n",
       "\n",
       "       Founded  \n",
       "0         1902  \n",
       "1         1916  \n",
       "2         1888  \n",
       "3  2013 (1888)  \n",
       "4         1981  "
      ]
     },
     "execution_count": 43,
     "metadata": {},
     "output_type": "execute_result"
    }
   ],
   "source": [
    "import pandas as pd\n",
    "data = pd.read_csv(\"https://ies-python-midterm.s3.eu-central-1.amazonaws.com/companies/companies_no_subindustry.csv\")\n",
    "data.head()"
   ]
  },
  {
   "cell_type": "code",
   "execution_count": 40,
   "metadata": {},
   "outputs": [
    {
     "name": "stdout",
     "output_type": "stream",
     "text": [
      "Number of companies with missing 'included' date: 45\n"
     ]
    }
   ],
   "source": [
    "#counting number of missing\n",
    "\n",
    "num_missing_included = data[\"included\"].isnull().sum()\n",
    "print(\"Number of companies with missing 'included' date:\", num_missing_included)\n"
   ]
  },
  {
   "cell_type": "code",
   "execution_count": null,
   "metadata": {},
   "outputs": [],
   "source": [
    "#there is 45 of them"
   ]
  },
  {
   "cell_type": "code",
   "execution_count": 44,
   "metadata": {},
   "outputs": [
    {
     "data": {
      "text/plain": [
       "0   1976-08-09\n",
       "1   2017-07-26\n",
       "2   1964-03-31\n",
       "3   2012-12-31\n",
       "4   2018-05-31\n",
       "Name: included, dtype: datetime64[ns]"
      ]
     },
     "execution_count": 44,
     "metadata": {},
     "output_type": "execute_result"
    }
   ],
   "source": [
    "# Convert the \"included\" column to datetime format\n",
    "data[\"included\"] = pd.to_datetime(data[\"included\"], dayfirst=True, errors='coerce')\n",
    "data[\"included\"].head()"
   ]
  },
  {
   "cell_type": "code",
   "execution_count": 48,
   "metadata": {},
   "outputs": [
    {
     "data": {
      "text/html": [
       "<div>\n",
       "<style scoped>\n",
       "    .dataframe tbody tr th:only-of-type {\n",
       "        vertical-align: middle;\n",
       "    }\n",
       "\n",
       "    .dataframe tbody tr th {\n",
       "        vertical-align: top;\n",
       "    }\n",
       "\n",
       "    .dataframe thead th {\n",
       "        text-align: right;\n",
       "    }\n",
       "</style>\n",
       "<table border=\"1\" class=\"dataframe\">\n",
       "  <thead>\n",
       "    <tr style=\"text-align: right;\">\n",
       "      <th></th>\n",
       "      <th>Symbol</th>\n",
       "      <th>Security</th>\n",
       "      <th>GICS Sector</th>\n",
       "      <th>hq</th>\n",
       "      <th>included</th>\n",
       "      <th>Founded</th>\n",
       "    </tr>\n",
       "  </thead>\n",
       "  <tbody>\n",
       "    <tr>\n",
       "      <th>0</th>\n",
       "      <td>MMM</td>\n",
       "      <td>3M</td>\n",
       "      <td>Industrials</td>\n",
       "      <td>Saint Paul, Minnesota</td>\n",
       "      <td>1976-08-09</td>\n",
       "      <td>1902</td>\n",
       "    </tr>\n",
       "    <tr>\n",
       "      <th>1</th>\n",
       "      <td>AOS</td>\n",
       "      <td>A. O. Smith</td>\n",
       "      <td>Industrials</td>\n",
       "      <td>Milwaukee, Wisconsin</td>\n",
       "      <td>2017-07-26</td>\n",
       "      <td>1916</td>\n",
       "    </tr>\n",
       "    <tr>\n",
       "      <th>2</th>\n",
       "      <td>ABT</td>\n",
       "      <td>Abbott</td>\n",
       "      <td>Health Care</td>\n",
       "      <td>North Chicago, Illinois</td>\n",
       "      <td>1964-03-31</td>\n",
       "      <td>1888</td>\n",
       "    </tr>\n",
       "    <tr>\n",
       "      <th>3</th>\n",
       "      <td>ABBV</td>\n",
       "      <td>AbbVie</td>\n",
       "      <td>Health Care</td>\n",
       "      <td>North Chicago, Illinois</td>\n",
       "      <td>2012-12-31</td>\n",
       "      <td>2013 (1888)</td>\n",
       "    </tr>\n",
       "    <tr>\n",
       "      <th>4</th>\n",
       "      <td>ABMD</td>\n",
       "      <td>Abiomed</td>\n",
       "      <td>Health Care</td>\n",
       "      <td>Danvers, Massachusetts</td>\n",
       "      <td>2018-05-31</td>\n",
       "      <td>1981</td>\n",
       "    </tr>\n",
       "  </tbody>\n",
       "</table>\n",
       "</div>"
      ],
      "text/plain": [
       "  Symbol     Security  GICS Sector                       hq   included  \\\n",
       "0    MMM           3M  Industrials    Saint Paul, Minnesota 1976-08-09   \n",
       "1    AOS  A. O. Smith  Industrials     Milwaukee, Wisconsin 2017-07-26   \n",
       "2    ABT       Abbott  Health Care  North Chicago, Illinois 1964-03-31   \n",
       "3   ABBV       AbbVie  Health Care  North Chicago, Illinois 2012-12-31   \n",
       "4   ABMD      Abiomed  Health Care   Danvers, Massachusetts 2018-05-31   \n",
       "\n",
       "       Founded  \n",
       "0         1902  \n",
       "1         1916  \n",
       "2         1888  \n",
       "3  2013 (1888)  \n",
       "4         1981  "
      ]
     },
     "execution_count": 48,
     "metadata": {},
     "output_type": "execute_result"
    }
   ],
   "source": [
    "# Remove companies with missing \"included\" dates\n",
    "data = data.dropna(subset=[\"included\"])\n",
    "data.head()"
   ]
  },
  {
   "cell_type": "code",
   "execution_count": 50,
   "metadata": {},
   "outputs": [
    {
     "data": {
      "text/plain": [
       "0    46.643836\n",
       "1     5.654795\n",
       "2    59.010959\n",
       "3    10.224658\n",
       "4     4.808219\n",
       "Name: age, dtype: float64"
      ]
     },
     "execution_count": 50,
     "metadata": {},
     "output_type": "execute_result"
    }
   ],
   "source": [
    "# Calculate the age of each constituent\n",
    "now = pd.Timestamp.now()\n",
    "data[\"age\"] = (now - data[\"included\"]).dt.days / 365\n",
    "data[\"age\"].head()"
   ]
  },
  {
   "cell_type": "code",
   "execution_count": 53,
   "metadata": {},
   "outputs": [
    {
     "name": "stdout",
     "output_type": "stream",
     "text": [
      "Symbol                          MO\n",
      "Security                    Altria\n",
      "GICS Sector       Consumer Staples\n",
      "hq              Richmond, Virginia\n",
      "included       1957-03-04 00:00:00\n",
      "Founded                       1985\n",
      "age                      66.090411\n",
      "Name: 25, dtype: object\n",
      "Symbol                        ACGL\n",
      "Security        Arch Capital Group\n",
      "GICS Sector             Financials\n",
      "hq               Hamilton, Bermuda\n",
      "included       2022-11-01 00:00:00\n",
      "Founded                       1995\n",
      "age                       0.383562\n",
      "Name: 48, dtype: object\n"
     ]
    }
   ],
   "source": [
    "# Find the oldest and youngest constituent\n",
    "oldest = data.loc[data[\"age\"].idxmax()]\n",
    "youngest = data.loc[data[\"age\"].idxmin()]\n",
    "print(oldest)\n",
    "print(youngest)"
   ]
  },
  {
   "cell_type": "code",
   "execution_count": 55,
   "metadata": {},
   "outputs": [
    {
     "name": "stdout",
     "output_type": "stream",
     "text": [
      "21.77206318755431\n"
     ]
    }
   ],
   "source": [
    "# Calculate and print the average age of \n",
    "avg_age = data[\"age\"].mean()\n",
    "print(avg_age)"
   ]
  },
  {
   "cell_type": "code",
   "execution_count": 61,
   "metadata": {},
   "outputs": [
    {
     "data": {
      "image/png": "[encoded data removed]",
      "text/plain": [
       "<Figure size 640x480 with 1 Axes>"
      ]
     },
     "metadata": {},
     "output_type": "display_data"
    }
   ],
   "source": [
    "\n",
    "import matplotlib.pyplot as plt\n",
    "data = pd.read_csv(\"https://ies-python-midterm.s3.eu-central-1.amazonaws.com/companies/companies_no_subindustry.csv\")\n",
    "data.head()\n",
    "\n",
    "# Group the DataFrame by sector and count the number of companies in each sector\n",
    "sector_counts = data.groupby(\"GICS Sector\").size()\n",
    "\n",
    "# Create a pie chart of the sector counts\n",
    "plt.pie(sector_counts, labels=sector_counts.index, autopct='%1.1f%%', startangle=90)\n",
    "plt.axis('equal')\n",
    "plt.title(\"Distribution of Companies Across Sectors\")\n",
    "plt.show()\n"
   ]
  },
  {
   "cell_type": "code",
   "execution_count": 62,
   "metadata": {},
   "outputs": [
    {
     "name": "stdout",
     "output_type": "stream",
     "text": [
      "California                             70\n",
      "New York                               55\n",
      "Texas                                  45\n",
      "Illinois                               33\n",
      "Massachusetts                          22\n",
      "Pennsylvania                           20\n",
      "Ohio                                   19\n",
      "Georgia                                17\n",
      "North Carolina                         16\n",
      "Virginia                               16\n",
      "Florida                                15\n",
      "New Jersey                             15\n",
      "Minnesota                              14\n",
      "Washington                             13\n",
      "Connecticut                            13\n",
      "Michigan                               12\n",
      "Ireland                                 8\n",
      "Wisconsin                               7\n",
      "Arizona                                 7\n",
      "Indiana                                 7\n",
      "Maryland                                7\n",
      "Tennessee                               7\n",
      "Colorado                                7\n",
      "Missouri                                6\n",
      "Nevada                                  4\n",
      "Rhode Island                            4\n",
      "United Kingdom                          4\n",
      "Oklahoma                                4\n",
      "Louisiana                               3\n",
      "Kentucky                                3\n",
      "Arkansas                                3\n",
      "Idaho                                   2\n",
      "Netherlands                             2\n",
      "Alabama                                 2\n",
      "Utah                                    2\n",
      "D.C.                                    2\n",
      "Delaware                                2\n",
      "Switzerland                             2\n",
      "Nebraska                                2\n",
      "Bermuda                                 2\n",
      "Nashville, Tennessee                    1\n",
      "Maine                                   1\n",
      "Oregon                                  1\n",
      "Iowa                                    1\n",
      "Jacksonville, Florida                   1\n",
      "UK                                      1\n",
      "Curaçao, Kingdom of the Netherlands     1\n",
      "Israel                                  1\n",
      "Schaffhausen, Switzerland               1\n",
      "Name: state, dtype: int64\n"
     ]
    }
   ],
   "source": [
    "import pandas as pd\n",
    "\n",
    "data = pd.read_csv(\"https://ies-python-midterm.s3.eu-central-1.amazonaws.com/companies/companies_no_subindustry.csv\")\n",
    "data.head()\n",
    "\n",
    "# Extract the state from the \"hq\" column\n",
    "data[\"state\"] = data[\"hq\"].str.split(\", \").str[-1]\n",
    "\n",
    "# Describe the distribution of the states\n",
    "state_counts = data[\"state\"].value_counts()\n",
    "print(state_counts)\n"
   ]
  },
  {
   "cell_type": "code",
   "execution_count": 69,
   "metadata": {},
   "outputs": [
    {
     "ename": "KeyError",
     "evalue": "'symbol'",
     "output_type": "error",
     "traceback": [
      "\u001b[1;31m---------------------------------------------------------------------------\u001b[0m",
      "\u001b[1;31mKeyError\u001b[0m                                  Traceback (most recent call last)",
      "\u001b[1;32m~\\AppData\\Local\\Temp\\ipykernel_10612\\480816132.py\u001b[0m in \u001b[0;36m<module>\u001b[1;34m\u001b[0m\n\u001b[0;32m      8\u001b[0m \u001b[1;33m\u001b[0m\u001b[0m\n\u001b[0;32m      9\u001b[0m \u001b[1;31m# Join the datasets on the \"symbol\" column\u001b[0m\u001b[1;33m\u001b[0m\u001b[1;33m\u001b[0m\u001b[0m\n\u001b[1;32m---> 10\u001b[1;33m \u001b[0mdf\u001b[0m \u001b[1;33m=\u001b[0m \u001b[0mpd\u001b[0m\u001b[1;33m.\u001b[0m\u001b[0mmerge\u001b[0m\u001b[1;33m(\u001b[0m\u001b[0mdf_main\u001b[0m\u001b[1;33m,\u001b[0m \u001b[0mdf_sub\u001b[0m\u001b[1;33m,\u001b[0m \u001b[0mon\u001b[0m\u001b[1;33m=\u001b[0m\u001b[1;34m\"symbol\"\u001b[0m\u001b[1;33m,\u001b[0m \u001b[0mhow\u001b[0m\u001b[1;33m=\u001b[0m\u001b[1;34m\"left\"\u001b[0m\u001b[1;33m)\u001b[0m\u001b[1;33m\u001b[0m\u001b[1;33m\u001b[0m\u001b[0m\n\u001b[0m\u001b[0;32m     11\u001b[0m \u001b[1;33m\u001b[0m\u001b[0m\n\u001b[0;32m     12\u001b[0m \u001b[1;31m# Filter the DataFrame by the \"Consumer Discretionary\" GICS sector\u001b[0m\u001b[1;33m\u001b[0m\u001b[1;33m\u001b[0m\u001b[0m\n",
      "\u001b[1;32mc:\\Users\\frant\\anaconda3\\lib\\site-packages\\pandas\\core\\reshape\\merge.py\u001b[0m in \u001b[0;36mmerge\u001b[1;34m(left, right, how, on, left_on, right_on, left_index, right_index, sort, suffixes, copy, indicator, validate)\u001b[0m\n\u001b[0;32m    105\u001b[0m     \u001b[0mvalidate\u001b[0m\u001b[1;33m:\u001b[0m \u001b[0mstr\u001b[0m \u001b[1;33m|\u001b[0m \u001b[1;32mNone\u001b[0m \u001b[1;33m=\u001b[0m \u001b[1;32mNone\u001b[0m\u001b[1;33m,\u001b[0m\u001b[1;33m\u001b[0m\u001b[1;33m\u001b[0m\u001b[0m\n\u001b[0;32m    106\u001b[0m ) -> DataFrame:\n\u001b[1;32m--> 107\u001b[1;33m     op = _MergeOperation(\n\u001b[0m\u001b[0;32m    108\u001b[0m         \u001b[0mleft\u001b[0m\u001b[1;33m,\u001b[0m\u001b[1;33m\u001b[0m\u001b[1;33m\u001b[0m\u001b[0m\n\u001b[0;32m    109\u001b[0m         \u001b[0mright\u001b[0m\u001b[1;33m,\u001b[0m\u001b[1;33m\u001b[0m\u001b[1;33m\u001b[0m\u001b[0m\n",
      "\u001b[1;32mc:\\Users\\frant\\anaconda3\\lib\\site-packages\\pandas\\core\\reshape\\merge.py\u001b[0m in \u001b[0;36m__init__\u001b[1;34m(self, left, right, how, on, left_on, right_on, axis, left_index, right_index, sort, suffixes, copy, indicator, validate)\u001b[0m\n\u001b[0;32m    698\u001b[0m             \u001b[0mself\u001b[0m\u001b[1;33m.\u001b[0m\u001b[0mright_join_keys\u001b[0m\u001b[1;33m,\u001b[0m\u001b[1;33m\u001b[0m\u001b[1;33m\u001b[0m\u001b[0m\n\u001b[0;32m    699\u001b[0m             \u001b[0mself\u001b[0m\u001b[1;33m.\u001b[0m\u001b[0mjoin_names\u001b[0m\u001b[1;33m,\u001b[0m\u001b[1;33m\u001b[0m\u001b[1;33m\u001b[0m\u001b[0m\n\u001b[1;32m--> 700\u001b[1;33m         ) = self._get_merge_keys()\n\u001b[0m\u001b[0;32m    701\u001b[0m \u001b[1;33m\u001b[0m\u001b[0m\n\u001b[0;32m    702\u001b[0m         \u001b[1;31m# validate the merge keys dtypes. We may need to coerce\u001b[0m\u001b[1;33m\u001b[0m\u001b[1;33m\u001b[0m\u001b[0m\n",
      "\u001b[1;32mc:\\Users\\frant\\anaconda3\\lib\\site-packages\\pandas\\core\\reshape\\merge.py\u001b[0m in \u001b[0;36m_get_merge_keys\u001b[1;34m(self)\u001b[0m\n\u001b[0;32m   1095\u001b[0m                     \u001b[1;32mif\u001b[0m \u001b[1;32mnot\u001b[0m \u001b[0mis_rkey\u001b[0m\u001b[1;33m(\u001b[0m\u001b[0mrk\u001b[0m\u001b[1;33m)\u001b[0m\u001b[1;33m:\u001b[0m\u001b[1;33m\u001b[0m\u001b[1;33m\u001b[0m\u001b[0m\n\u001b[0;32m   1096\u001b[0m                         \u001b[1;32mif\u001b[0m \u001b[0mrk\u001b[0m \u001b[1;32mis\u001b[0m \u001b[1;32mnot\u001b[0m \u001b[1;32mNone\u001b[0m\u001b[1;33m:\u001b[0m\u001b[1;33m\u001b[0m\u001b[1;33m\u001b[0m\u001b[0m\n\u001b[1;32m-> 1097\u001b[1;33m                             \u001b[0mright_keys\u001b[0m\u001b[1;33m.\u001b[0m\u001b[0mappend\u001b[0m\u001b[1;33m(\u001b[0m\u001b[0mright\u001b[0m\u001b[1;33m.\u001b[0m\u001b[0m_get_label_or_level_values\u001b[0m\u001b[1;33m(\u001b[0m\u001b[0mrk\u001b[0m\u001b[1;33m)\u001b[0m\u001b[1;33m)\u001b[0m\u001b[1;33m\u001b[0m\u001b[1;33m\u001b[0m\u001b[0m\n\u001b[0m\u001b[0;32m   1098\u001b[0m                         \u001b[1;32melse\u001b[0m\u001b[1;33m:\u001b[0m\u001b[1;33m\u001b[0m\u001b[1;33m\u001b[0m\u001b[0m\n\u001b[0;32m   1099\u001b[0m                             \u001b[1;31m# work-around for merge_asof(right_index=True)\u001b[0m\u001b[1;33m\u001b[0m\u001b[1;33m\u001b[0m\u001b[0m\n",
      "\u001b[1;32mc:\\Users\\frant\\anaconda3\\lib\\site-packages\\pandas\\core\\generic.py\u001b[0m in \u001b[0;36m_get_label_or_level_values\u001b[1;34m(self, key, axis)\u001b[0m\n\u001b[0;32m   1838\u001b[0m             \u001b[0mvalues\u001b[0m \u001b[1;33m=\u001b[0m \u001b[0mself\u001b[0m\u001b[1;33m.\u001b[0m\u001b[0maxes\u001b[0m\u001b[1;33m[\u001b[0m\u001b[0maxis\u001b[0m\u001b[1;33m]\u001b[0m\u001b[1;33m.\u001b[0m\u001b[0mget_level_values\u001b[0m\u001b[1;33m(\u001b[0m\u001b[0mkey\u001b[0m\u001b[1;33m)\u001b[0m\u001b[1;33m.\u001b[0m\u001b[0m_values\u001b[0m\u001b[1;33m\u001b[0m\u001b[1;33m\u001b[0m\u001b[0m\n\u001b[0;32m   1839\u001b[0m         \u001b[1;32melse\u001b[0m\u001b[1;33m:\u001b[0m\u001b[1;33m\u001b[0m\u001b[1;33m\u001b[0m\u001b[0m\n\u001b[1;32m-> 1840\u001b[1;33m             \u001b[1;32mraise\u001b[0m \u001b[0mKeyError\u001b[0m\u001b[1;33m(\u001b[0m\u001b[0mkey\u001b[0m\u001b[1;33m)\u001b[0m\u001b[1;33m\u001b[0m\u001b[1;33m\u001b[0m\u001b[0m\n\u001b[0m\u001b[0;32m   1841\u001b[0m \u001b[1;33m\u001b[0m\u001b[0m\n\u001b[0;32m   1842\u001b[0m         \u001b[1;31m# Check for duplicates\u001b[0m\u001b[1;33m\u001b[0m\u001b[1;33m\u001b[0m\u001b[0m\n",
      "\u001b[1;31mKeyError\u001b[0m: 'symbol'"
     ]
    }
   ],
   "source": [
    "import pandas as pd\n",
    "\n",
    "# Load the main dataset\n",
    "df_main = pd.read_csv(\"https://ies-python-midterm.s3.eu-central-1.amazonaws.com/companies/companies_no_subindustry.csv\")\n",
    "\n",
    "# Load the subindustry dataset\n",
    "df_sub = pd.read_csv(\"https://ies-python-midterm.s3.eu-central-1.amazonaws.com/companies/companies_subindustry.csv\")\n",
    "\n",
    "# Join the datasets on the \"symbol\" column\n",
    "df = pd.merge(df_main, df_sub, on=\"symbol\", how=\"left\")\n",
    "\n",
    "# Filter the DataFrame by the \"Consumer Discretionary\" GICS sector\n",
    "df_cd = df[df[\"sector\"] == \"Consumer Discretionary\"]\n",
    "\n",
    "# Describe the distribution of subindustries for the \"Consumer Discretionary\" GICS sector\n",
    "sub_counts = df_cd[\"subindustry\"].value_counts()\n",
    "print(sub_counts)\n"
   ]
  }
 ],
 "metadata": {
  "kernelspec": {
   "display_name": "base",
   "language": "python",
   "name": "python3"
  },
  "language_info": {
   "codemirror_mode": {
    "name": "ipython",
    "version": 3
   },
   "file_extension": ".py",
   "mimetype": "text/x-python",
   "name": "python",
   "nbconvert_exporter": "python",
   "pygments_lexer": "ipython3",
   "version": "3.9.13"
  },
  "orig_nbformat": 4
 },
 "nbformat": 4,
 "nbformat_minor": 2
}
